{
 "cells": [
  {
   "cell_type": "code",
   "execution_count": 2,
   "id": "2052fe8d",
   "metadata": {},
   "outputs": [],
   "source": [
    "from sklearn.datasets import load_diabetes\n",
    "diabetes=load_diabetes()\n"
   ]
  },
  {
   "cell_type": "code",
   "execution_count": 3,
   "id": "5be800b1",
   "metadata": {},
   "outputs": [],
   "source": [
    "df_X=diabetes.data\n",
    "df_y=diabetes.target"
   ]
  },
  {
   "cell_type": "code",
   "execution_count": 4,
   "id": "85db0ce1",
   "metadata": {},
   "outputs": [
    {
     "data": {
      "text/plain": [
       "numpy.ndarray"
      ]
     },
     "execution_count": 4,
     "metadata": {},
     "output_type": "execute_result"
    }
   ],
   "source": [
    "type(df_X)"
   ]
  },
  {
   "cell_type": "code",
   "execution_count": 5,
   "id": "6e42dace",
   "metadata": {},
   "outputs": [
    {
     "data": {
      "text/plain": [
       "numpy.ndarray"
      ]
     },
     "execution_count": 5,
     "metadata": {},
     "output_type": "execute_result"
    }
   ],
   "source": [
    "type(df_y)"
   ]
  },
  {
   "cell_type": "code",
   "execution_count": 7,
   "id": "80ed4770",
   "metadata": {},
   "outputs": [
    {
     "name": "stdout",
     "output_type": "stream",
     "text": [
      "(442, 10)\n",
      "(442,)\n"
     ]
    }
   ],
   "source": [
    "print(df_X.shape)\n",
    "print(df_y.shape)"
   ]
  },
  {
   "cell_type": "code",
   "execution_count": 9,
   "id": "6bc4bb57",
   "metadata": {},
   "outputs": [],
   "source": [
    "from sklearn.model_selection import train_test_split\n",
    "X_train, X_test, Y_train, Y_test = train_test_split(df_X, df_y, test_size=0.33, random_state=321)"
   ]
  },
  {
   "cell_type": "code",
   "execution_count": 10,
   "id": "2c57bb7d",
   "metadata": {},
   "outputs": [
    {
     "name": "stdout",
     "output_type": "stream",
     "text": [
      "feature 1 : age\n",
      "feature 2 : sex\n",
      "feature 3 : bmi\n",
      "feature 4 : bp\n",
      "feature 5 : s1\n",
      "feature 6 : s2\n",
      "feature 7 : s3\n",
      "feature 8 : s4\n",
      "feature 9 : s5\n",
      "feature 10 : s6\n"
     ]
    }
   ],
   "source": [
    "for i,feature_name in enumerate(diabetes.feature_names):\n",
    "  print(f'feature {i+1} : {feature_name}')"
   ]
  },
  {
   "cell_type": "code",
   "execution_count": 11,
   "id": "2d4cdf95",
   "metadata": {},
   "outputs": [
    {
     "name": "stdout",
     "output_type": "stream",
     "text": [
      "<x_data[0]> :  [ 0.03807591  0.05068012  0.06169621  0.02187235 -0.0442235  -0.03482076\n",
      " -0.04340085 -0.00259226  0.01990842 -0.01764613]\n",
      "\n",
      "<y_data[0]> :  151.0\n"
     ]
    }
   ],
   "source": [
    "print('<x_data[0]> : ',df_X[0])\n",
    "print()\n",
    "print('<y_data[0]> : ',df_y[0] )"
   ]
  },
  {
   "cell_type": "code",
   "execution_count": 12,
   "id": "c5e8c8a9",
   "metadata": {},
   "outputs": [],
   "source": [
    "import numpy as np\n",
    "W = np.random.rand(10)\n",
    "b = np.random.rand()"
   ]
  },
  {
   "cell_type": "code",
   "execution_count": 13,
   "id": "fd3e22a7",
   "metadata": {},
   "outputs": [],
   "source": [
    "def model(X, W, b):\n",
    "    predictions = 0\n",
    "    for i in range(10):\n",
    "        predictions += X[:, i] * W[i]\n",
    "    predictions += b\n",
    "    return predictions"
   ]
  },
  {
   "cell_type": "code",
   "execution_count": 14,
   "id": "3394a9d8",
   "metadata": {},
   "outputs": [],
   "source": [
    "def MSE(a, b):\n",
    "    mse = ((a - b) ** 2).mean()  # 두 값의 차이의 제곱의 평균\n",
    "    return mse"
   ]
  },
  {
   "cell_type": "code",
   "execution_count": 15,
   "id": "bd07c244",
   "metadata": {},
   "outputs": [],
   "source": [
    "def loss(X, W, b, y):\n",
    "    predictions = model(X, W, b)\n",
    "    L = MSE(predictions, y)\n",
    "    return L"
   ]
  },
  {
   "cell_type": "code",
   "execution_count": 16,
   "id": "7a555ded",
   "metadata": {},
   "outputs": [],
   "source": [
    "def gradient(X, W, b, y):\n",
    "    # N은 데이터 포인트의 개수\n",
    "    N = len(y)\n",
    "    \n",
    "    # y_pred 준비\n",
    "    y_pred = model(X, W, b)\n",
    "    \n",
    "    # 공식에 맞게 gradient 계산\n",
    "    dW = 1/N * 2 * X.T.dot(y_pred - y)\n",
    "        \n",
    "    # b의 gradient 계산\n",
    "    db = 2 * (y_pred - y).mean()\n",
    "    return dW, db"
   ]
  },
  {
   "cell_type": "code",
   "execution_count": 17,
   "id": "54c5cf72",
   "metadata": {},
   "outputs": [],
   "source": [
    "LEARNING_RATE = 0.0001"
   ]
  },
  {
   "cell_type": "code",
   "execution_count": 23,
   "id": "9fe3b17e",
   "metadata": {},
   "outputs": [
    {
     "name": "stdout",
     "output_type": "stream",
     "text": [
      "Iteration 10000 : Loss 5350.4790\n",
      "Iteration 20000 : Loss 5288.2145\n",
      "Iteration 30000 : Loss 5227.9922\n",
      "Iteration 40000 : Loss 5169.7393\n",
      "Iteration 50000 : Loss 5113.3854\n",
      "Iteration 60000 : Loss 5058.8629\n",
      "Iteration 70000 : Loss 5006.1066\n",
      "Iteration 80000 : Loss 4955.0535\n",
      "Iteration 90000 : Loss 4905.6431\n",
      "Iteration 100000 : Loss 4857.8171\n",
      "Iteration 110000 : Loss 4811.5194\n",
      "Iteration 120000 : Loss 4766.6956\n",
      "Iteration 130000 : Loss 4723.2937\n",
      "Iteration 140000 : Loss 4681.2633\n",
      "Iteration 150000 : Loss 4640.5561\n",
      "Iteration 160000 : Loss 4601.1253\n",
      "Iteration 170000 : Loss 4562.9259\n",
      "Iteration 180000 : Loss 4525.9146\n",
      "Iteration 190000 : Loss 4490.0497\n",
      "Iteration 200000 : Loss 4455.2909\n",
      "Iteration 210000 : Loss 4421.5993\n",
      "Iteration 220000 : Loss 4388.9377\n",
      "Iteration 230000 : Loss 4357.2701\n",
      "Iteration 240000 : Loss 4326.5616\n",
      "Iteration 250000 : Loss 4296.7790\n",
      "Iteration 260000 : Loss 4267.8898\n",
      "Iteration 270000 : Loss 4239.8632\n",
      "Iteration 280000 : Loss 4212.6692\n",
      "Iteration 290000 : Loss 4186.2788\n",
      "Iteration 300000 : Loss 4160.6644\n",
      "Iteration 310000 : Loss 4135.7991\n",
      "Iteration 320000 : Loss 4111.6570\n",
      "Iteration 330000 : Loss 4088.2134\n",
      "Iteration 340000 : Loss 4065.4442\n",
      "Iteration 350000 : Loss 4043.3263\n",
      "Iteration 360000 : Loss 4021.8374\n",
      "Iteration 370000 : Loss 4000.9560\n",
      "Iteration 380000 : Loss 3980.6615\n",
      "Iteration 390000 : Loss 3960.9338\n",
      "Iteration 400000 : Loss 3941.7537\n",
      "Iteration 410000 : Loss 3923.1028\n",
      "Iteration 420000 : Loss 3904.9630\n",
      "Iteration 430000 : Loss 3887.3172\n",
      "Iteration 440000 : Loss 3870.1487\n",
      "Iteration 450000 : Loss 3853.4416\n",
      "Iteration 460000 : Loss 3837.1803\n",
      "Iteration 470000 : Loss 3821.3501\n",
      "Iteration 480000 : Loss 3805.9365\n",
      "Iteration 490000 : Loss 3790.9258\n",
      "Iteration 500000 : Loss 3776.3044\n",
      "Iteration 510000 : Loss 3762.0597\n",
      "Iteration 520000 : Loss 3748.1792\n",
      "Iteration 530000 : Loss 3734.6509\n",
      "Iteration 540000 : Loss 3721.4633\n",
      "Iteration 550000 : Loss 3708.6053\n",
      "Iteration 560000 : Loss 3696.0661\n",
      "Iteration 570000 : Loss 3683.8354\n",
      "Iteration 580000 : Loss 3671.9032\n",
      "Iteration 590000 : Loss 3660.2598\n",
      "Iteration 600000 : Loss 3648.8961\n",
      "Iteration 610000 : Loss 3637.8030\n",
      "Iteration 620000 : Loss 3626.9720\n",
      "Iteration 630000 : Loss 3616.3946\n",
      "Iteration 640000 : Loss 3606.0628\n",
      "Iteration 650000 : Loss 3595.9690\n",
      "Iteration 660000 : Loss 3586.1055\n",
      "Iteration 670000 : Loss 3576.4653\n",
      "Iteration 680000 : Loss 3567.0412\n",
      "Iteration 690000 : Loss 3557.8267\n",
      "Iteration 700000 : Loss 3548.8152\n",
      "Iteration 710000 : Loss 3540.0005\n",
      "Iteration 720000 : Loss 3531.3765\n",
      "Iteration 730000 : Loss 3522.9374\n",
      "Iteration 740000 : Loss 3514.6776\n",
      "Iteration 750000 : Loss 3506.5917\n",
      "Iteration 760000 : Loss 3498.6744\n",
      "Iteration 770000 : Loss 3490.9207\n",
      "Iteration 780000 : Loss 3483.3256\n",
      "Iteration 790000 : Loss 3475.8845\n",
      "Iteration 800000 : Loss 3468.5929\n",
      "Iteration 810000 : Loss 3461.4462\n",
      "Iteration 820000 : Loss 3454.4404\n",
      "Iteration 830000 : Loss 3447.5713\n",
      "Iteration 840000 : Loss 3440.8349\n",
      "Iteration 850000 : Loss 3434.2275\n",
      "Iteration 860000 : Loss 3427.7453\n",
      "Iteration 870000 : Loss 3421.3847\n",
      "Iteration 880000 : Loss 3415.1424\n",
      "Iteration 890000 : Loss 3409.0150\n",
      "Iteration 900000 : Loss 3402.9993\n",
      "Iteration 910000 : Loss 3397.0923\n",
      "Iteration 920000 : Loss 3391.2908\n",
      "Iteration 930000 : Loss 3385.5920\n",
      "Iteration 940000 : Loss 3379.9931\n",
      "Iteration 950000 : Loss 3374.4914\n",
      "Iteration 960000 : Loss 3369.0843\n",
      "Iteration 970000 : Loss 3363.7693\n",
      "Iteration 980000 : Loss 3358.5439\n",
      "Iteration 990000 : Loss 3353.4057\n",
      "Iteration 1000000 : Loss 3348.3525\n"
     ]
    }
   ],
   "source": [
    "losses = []\n",
    "\n",
    "for i in range(1, 1000001):\n",
    "    dW, db = gradient(X_train, W, b, Y_train)\n",
    "    W -= LEARNING_RATE * dW\n",
    "    b -= LEARNING_RATE * db\n",
    "    L = loss(X_train, W, b, Y_train)\n",
    "    losses.append(L)\n",
    "    if i % 10000 == 0:\n",
    "        print('Iteration %d : Loss %0.4f' % (i, L))"
   ]
  },
  {
   "cell_type": "code",
   "execution_count": 24,
   "id": "3cc27ca0",
   "metadata": {},
   "outputs": [
    {
     "data": {
      "image/png": "[encoded data removed]",
      "text/plain": [
       "<Figure size 432x288 with 1 Axes>"
      ]
     },
     "metadata": {
      "needs_background": "light"
     },
     "output_type": "display_data"
    }
   ],
   "source": [
    "import matplotlib.pyplot as plt\n",
    "plt.plot(losses)\n",
    "plt.show()"
   ]
  },
  {
   "cell_type": "code",
   "execution_count": 26,
   "id": "628f60e4",
   "metadata": {},
   "outputs": [
    {
     "data": {
      "text/plain": [
       "3301.6841189097636"
      ]
     },
     "execution_count": 26,
     "metadata": {},
     "output_type": "execute_result"
    }
   ],
   "source": [
    "prediction = model(X_test, W, b)\n",
    "mse = loss(X_test, W, b, Y_test)\n",
    "mse"
   ]
  },
  {
   "cell_type": "code",
   "execution_count": 28,
   "id": "c18b841b",
   "metadata": {},
   "outputs": [
    {
     "data": {
      "image/png": "[encoded data removed]",
      "text/plain": [
       "<Figure size 432x288 with 1 Axes>"
      ]
     },
     "metadata": {
      "needs_background": "light"
     },
     "output_type": "display_data"
    }
   ],
   "source": [
    "plt.scatter(X_test[:, 0], Y_test)\n",
    "plt.scatter(X_test[:, 0], prediction)\n",
    "plt.show()"
   ]
  },
  {
   "cell_type": "code",
   "execution_count": null,
   "id": "83f0d52c",
   "metadata": {},
   "outputs": [],
   "source": []
  }
 ],
 "metadata": {
  "kernelspec": {
   "display_name": "Python 3 (ipykernel)",
   "language": "python",
   "name": "python3"
  },
  "language_info": {
   "codemirror_mode": {
    "name": "ipython",
    "version": 3
   },
   "file_extension": ".py",
   "mimetype": "text/x-python",
   "name": "python",
   "nbconvert_exporter": "python",
   "pygments_lexer": "ipython3",
   "version": "3.9.7"
  }
 },
 "nbformat": 4,
 "nbformat_minor": 5
}
